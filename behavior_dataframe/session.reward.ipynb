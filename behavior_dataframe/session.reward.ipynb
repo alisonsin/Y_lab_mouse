{
 "cells": [
  {
   "cell_type": "code",
   "execution_count": 1,
   "metadata": {},
   "outputs": [],
   "source": [
    "import pandas as pd \n",
    "import numpy as np"
   ]
  },
  {
   "cell_type": "code",
   "execution_count": 2,
   "metadata": {},
   "outputs": [],
   "source": [
    "raw_sessiondata = pd.read_csv(\"20210113-133853.csv\", skiprows=6, delimiter = ';')"
   ]
  },
  {
   "cell_type": "code",
   "execution_count": 3,
   "metadata": {},
   "outputs": [],
   "source": [
    "#Add a column for 'timestamps'\n",
    "import time\n",
    "import datetime\n",
    "import ciso8601\n",
    "\n",
    "timestamp = []\n",
    "for i in range(len(raw_sessiondata.index)):\n",
    "    t = raw_sessiondata['PC-TIME'].iloc[i]\n",
    "    ts= ciso8601.parse_datetime(t)\n",
    "    if i == 0:\n",
    "        t0= time.mktime(ts.timetuple())+ts.microsecond/1000000\n",
    "        timestamp.append(np.around(t0-t0,3))\n",
    "    else:\n",
    "        tnow = time.mktime(ts.timetuple())+ts.microsecond/1000000\n",
    "        timestamp.append(np.around(tnow-t0,3))\n",
    "\n",
    "raw_sessiondata['timestamps'] = timestamp"
   ]
  },
  {
   "cell_type": "code",
   "execution_count": 11,
   "metadata": {},
   "outputs": [],
   "source": [
    "df_group_msg = raw_sessiondata.groupby('MSG')"
   ]
  },
  {
   "cell_type": "markdown",
   "metadata": {},
   "source": [
    "## Reward Delivery Timestamp"
   ]
  },
  {
   "cell_type": "code",
   "execution_count": 13,
   "metadata": {},
   "outputs": [],
   "source": [
    "# Get lick onsets \n",
    "df_openvalve = df_group_msg.get_group('open_valve')\n",
    "timestamps_reward = df_openvalve.timestamps.to_numpy()"
   ]
  },
  {
   "cell_type": "code",
   "execution_count": 14,
   "metadata": {},
   "outputs": [
    {
     "data": {
      "text/plain": [
       "array([  21.663,   21.713,   62.417,   62.468,   83.212,   83.262,\n",
       "        113.982,  114.032,  134.949,  135.   ,  165.786,  165.837,\n",
       "        196.663,  196.713,  227.561,  227.61 ,  248.356,  248.406,\n",
       "        279.167,  279.217,  319.908,  319.959,  360.618,  360.668,\n",
       "        391.357,  391.408,  412.06 ,  412.111,  452.792,  452.842,\n",
       "        483.492,  483.541,  514.201,  514.252,  534.962,  535.012,\n",
       "        565.695,  565.745,  586.461,  586.511,  617.158,  617.209,\n",
       "        657.912,  657.962,  688.767,  688.817,  729.607,  729.657,\n",
       "        750.312,  750.362,  771.044,  771.094,  811.816,  811.865,\n",
       "        852.521,  852.571,  873.256,  873.306,  913.982,  914.033,\n",
       "        954.7  ,  954.751,  995.414,  995.464, 1016.162, 1016.212,\n",
       "       1056.911, 1056.962, 1077.596, 1077.647, 1118.352, 1118.403,\n",
       "       1139.08 , 1139.13 , 1159.774, 1159.824, 1200.524, 1200.575,\n",
       "       1221.257, 1221.307, 1251.99 , 1252.041, 1282.766, 1282.817,\n",
       "       1303.48 , 1303.531, 1324.199, 1324.249, 1354.96 , 1355.01 ,\n",
       "       1395.694, 1395.745, 1426.417, 1426.467, 1447.171, 1447.222,\n",
       "       1487.902, 1487.952, 1518.635, 1518.685, 1559.434, 1559.483,\n",
       "       1590.189, 1590.238, 1610.949, 1610.999, 1631.679, 1631.73 ,\n",
       "       1672.381, 1672.431, 1713.099, 1713.15 , 1743.868, 1743.919,\n",
       "       1764.647, 1764.698, 1785.393, 1785.443, 1816.177, 1816.227,\n",
       "       1846.955, 1847.005, 1887.692, 1887.743, 1928.416, 1928.466,\n",
       "       1959.162, 1959.212, 1979.881, 1979.931, 2010.612, 2010.662,\n",
       "       2051.355, 2051.406, 2092.261, 2092.311, 2113.054, 2113.105,\n",
       "       2143.916, 2143.967, 2174.683, 2174.733, 2195.423, 2195.473,\n",
       "       2226.153, 2226.204, 2267.02 , 2267.07 , 2307.783, 2307.833])"
      ]
     },
     "execution_count": 14,
     "metadata": {},
     "output_type": "execute_result"
    }
   ],
   "source": [
    "timestamps_reward"
   ]
  },
  {
   "cell_type": "code",
   "execution_count": null,
   "metadata": {},
   "outputs": [],
   "source": []
  }
 ],
 "metadata": {
  "kernelspec": {
   "display_name": "Python 3",
   "language": "python",
   "name": "python3"
  },
  "language_info": {
   "codemirror_mode": {
    "name": "ipython",
    "version": 3
   },
   "file_extension": ".py",
   "mimetype": "text/x-python",
   "name": "python",
   "nbconvert_exporter": "python",
   "pygments_lexer": "ipython3",
   "version": "3.6.10"
  }
 },
 "nbformat": 4,
 "nbformat_minor": 4
}
