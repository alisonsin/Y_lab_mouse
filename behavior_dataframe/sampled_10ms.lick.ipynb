{
 "cells": [
  {
   "cell_type": "code",
   "execution_count": 1,
   "metadata": {},
   "outputs": [],
   "source": [
    "import pandas as pd \n",
    "import numpy as np"
   ]
  },
  {
   "cell_type": "code",
   "execution_count": 2,
   "metadata": {},
   "outputs": [],
   "source": [
    "raw_sessiondata = pd.read_csv(\"20210113-133853.csv\", skiprows=6, delimiter = ';')"
   ]
  },
  {
   "cell_type": "code",
   "execution_count": 3,
   "metadata": {},
   "outputs": [],
   "source": [
    "#Add a column for 'timestamps'\n",
    "import time\n",
    "import datetime\n",
    "import ciso8601\n",
    "\n",
    "timestamp = []\n",
    "for i in range(len(raw_sessiondata.index)):\n",
    "    t = raw_sessiondata['PC-TIME'].iloc[i]\n",
    "    ts= ciso8601.parse_datetime(t)\n",
    "    if i == 0:\n",
    "        t0= time.mktime(ts.timetuple())+ts.microsecond/1000000\n",
    "        timestamp.append(np.around(t0-t0,3))\n",
    "    else:\n",
    "        tnow = time.mktime(ts.timetuple())+ts.microsecond/1000000\n",
    "        timestamp.append(np.around(tnow-t0,3))\n",
    "\n",
    "raw_sessiondata['timestamps'] = timestamp"
   ]
  },
  {
   "cell_type": "code",
   "execution_count": 4,
   "metadata": {},
   "outputs": [],
   "source": [
    "df_group_info = raw_sessiondata.groupby('+INFO')\n",
    "df_group_type = raw_sessiondata.groupby('TYPE')"
   ]
  },
  {
   "cell_type": "markdown",
   "metadata": {},
   "source": [
    "## Lick Response Timestamps"
   ]
  },
  {
   "cell_type": "code",
   "execution_count": 9,
   "metadata": {},
   "outputs": [],
   "source": [
    "# Get lick onsets \n",
    "df_port1out = df_group_info.get_group('Port1Out')\n",
    "timestamps_lickon = df_port1out.timestamps.to_numpy()"
   ]
  },
  {
   "cell_type": "code",
   "execution_count": 10,
   "metadata": {},
   "outputs": [],
   "source": [
    "timestamps_10ms= timestamps_lickon*100"
   ]
  },
  {
   "cell_type": "code",
   "execution_count": 8,
   "metadata": {},
   "outputs": [
    {
     "name": "stdout",
     "output_type": "stream",
     "text": [
      "[791, 819, 854, 872, 1675, 1696, 2161, 2175, 2194, 2208]\n"
     ]
    }
   ],
   "source": [
    "rounded_timestamps_10ms = [int(round(timestamps_10ms[i])) for i in range(len(timestamps_10ms))]\n",
    "print(rounded_timestamps_10ms[0:10])"
   ]
  },
  {
   "cell_type": "code",
   "execution_count": 17,
   "metadata": {},
   "outputs": [],
   "source": [
    "sampled_lick_10ms = np.zeros(rounded_timestamps_10ms[-1]+1)\n",
    "np.put(sampled_lick_10ms,rounded_timestamps_10ms,1)"
   ]
  },
  {
   "cell_type": "markdown",
   "metadata": {},
   "source": [
    "#### Checking Accuracy; should have the result as 'rounded_timestamps_10ms'"
   ]
  },
  {
   "cell_type": "code",
   "execution_count": 19,
   "metadata": {},
   "outputs": [
    {
     "data": {
      "text/plain": [
       "(array([   791,    819,    854, ..., 230803, 230820, 230830]),)"
      ]
     },
     "execution_count": 19,
     "metadata": {},
     "output_type": "execute_result"
    }
   ],
   "source": [
    "np.where(sampled_lick_10ms == 1)"
   ]
  },
  {
   "cell_type": "markdown",
   "metadata": {},
   "source": [
    "## Creating DataFrame: 'Sampled_10ms.lick'"
   ]
  },
  {
   "cell_type": "code",
   "execution_count": 20,
   "metadata": {},
   "outputs": [],
   "source": [
    "# intialise data of lists. \n",
    "data = {'Sampled_10ms.lick':sampled_lick_10ms } \n",
    "# Create DataFrame \n",
    "df_licks = pd.DataFrame(data)"
   ]
  },
  {
   "cell_type": "code",
   "execution_count": 21,
   "metadata": {},
   "outputs": [
    {
     "data": {
      "text/html": [
       "<div>\n",
       "<style scoped>\n",
       "    .dataframe tbody tr th:only-of-type {\n",
       "        vertical-align: middle;\n",
       "    }\n",
       "\n",
       "    .dataframe tbody tr th {\n",
       "        vertical-align: top;\n",
       "    }\n",
       "\n",
       "    .dataframe thead th {\n",
       "        text-align: right;\n",
       "    }\n",
       "</style>\n",
       "<table border=\"1\" class=\"dataframe\">\n",
       "  <thead>\n",
       "    <tr style=\"text-align: right;\">\n",
       "      <th></th>\n",
       "      <th>Sampled_10ms.lick</th>\n",
       "    </tr>\n",
       "  </thead>\n",
       "  <tbody>\n",
       "    <tr>\n",
       "      <th>0</th>\n",
       "      <td>0.0</td>\n",
       "    </tr>\n",
       "    <tr>\n",
       "      <th>1</th>\n",
       "      <td>0.0</td>\n",
       "    </tr>\n",
       "    <tr>\n",
       "      <th>2</th>\n",
       "      <td>0.0</td>\n",
       "    </tr>\n",
       "    <tr>\n",
       "      <th>3</th>\n",
       "      <td>0.0</td>\n",
       "    </tr>\n",
       "    <tr>\n",
       "      <th>4</th>\n",
       "      <td>0.0</td>\n",
       "    </tr>\n",
       "    <tr>\n",
       "      <th>...</th>\n",
       "      <td>...</td>\n",
       "    </tr>\n",
       "    <tr>\n",
       "      <th>230826</th>\n",
       "      <td>0.0</td>\n",
       "    </tr>\n",
       "    <tr>\n",
       "      <th>230827</th>\n",
       "      <td>0.0</td>\n",
       "    </tr>\n",
       "    <tr>\n",
       "      <th>230828</th>\n",
       "      <td>0.0</td>\n",
       "    </tr>\n",
       "    <tr>\n",
       "      <th>230829</th>\n",
       "      <td>0.0</td>\n",
       "    </tr>\n",
       "    <tr>\n",
       "      <th>230830</th>\n",
       "      <td>1.0</td>\n",
       "    </tr>\n",
       "  </tbody>\n",
       "</table>\n",
       "<p>230831 rows × 1 columns</p>\n",
       "</div>"
      ],
      "text/plain": [
       "        Sampled_10ms.lick\n",
       "0                     0.0\n",
       "1                     0.0\n",
       "2                     0.0\n",
       "3                     0.0\n",
       "4                     0.0\n",
       "...                   ...\n",
       "230826                0.0\n",
       "230827                0.0\n",
       "230828                0.0\n",
       "230829                0.0\n",
       "230830                1.0\n",
       "\n",
       "[230831 rows x 1 columns]"
      ]
     },
     "execution_count": 21,
     "metadata": {},
     "output_type": "execute_result"
    }
   ],
   "source": [
    "df_licks"
   ]
  },
  {
   "cell_type": "markdown",
   "metadata": {},
   "source": [
    "**Saving to h5**"
   ]
  },
  {
   "cell_type": "code",
   "execution_count": 22,
   "metadata": {},
   "outputs": [],
   "source": [
    "df_licks.to_hdf('Sampled_10ms.licks.h5', key = 'dflicks')"
   ]
  },
  {
   "cell_type": "code",
   "execution_count": null,
   "metadata": {},
   "outputs": [],
   "source": []
  }
 ],
 "metadata": {
  "kernelspec": {
   "display_name": "Python 3",
   "language": "python",
   "name": "python3"
  },
  "language_info": {
   "codemirror_mode": {
    "name": "ipython",
    "version": 3
   },
   "file_extension": ".py",
   "mimetype": "text/x-python",
   "name": "python",
   "nbconvert_exporter": "python",
   "pygments_lexer": "ipython3",
   "version": "3.6.10"
  }
 },
 "nbformat": 4,
 "nbformat_minor": 4
}
