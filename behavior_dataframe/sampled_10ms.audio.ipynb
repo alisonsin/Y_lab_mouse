{
 "cells": [
  {
   "cell_type": "code",
   "execution_count": 6,
   "metadata": {},
   "outputs": [],
   "source": [
    "import pandas as pd \n",
    "import numpy as np"
   ]
  },
  {
   "cell_type": "code",
   "execution_count": 7,
   "metadata": {},
   "outputs": [],
   "source": [
    "raw_sessiondata = pd.read_csv(\"20210113-133853.csv\", skiprows=6, delimiter = ';')"
   ]
  },
  {
   "cell_type": "code",
   "execution_count": 8,
   "metadata": {},
   "outputs": [],
   "source": [
    "#Add a column for 'timestamps'\n",
    "import time\n",
    "import datetime\n",
    "import ciso8601\n",
    "\n",
    "timestamp = []\n",
    "for i in range(len(raw_sessiondata.index)):\n",
    "    t = raw_sessiondata['PC-TIME'].iloc[i]\n",
    "    ts= ciso8601.parse_datetime(t)\n",
    "    if i == 0:\n",
    "        t0= time.mktime(ts.timetuple())+ts.microsecond/1000000\n",
    "        timestamp.append(np.around(t0-t0,3))\n",
    "    else:\n",
    "        tnow = time.mktime(ts.timetuple())+ts.microsecond/1000000\n",
    "        timestamp.append(np.around(tnow-t0,3))\n",
    "\n",
    "raw_sessiondata['timestamps'] = timestamp"
   ]
  },
  {
   "cell_type": "code",
   "execution_count": 9,
   "metadata": {},
   "outputs": [],
   "source": [
    "df_group_info = raw_sessiondata.groupby('+INFO')\n",
    "df_group_type = raw_sessiondata.groupby('TYPE')"
   ]
  },
  {
   "cell_type": "markdown",
   "metadata": {},
   "source": [
    "## Audio Timestamp"
   ]
  },
  {
   "cell_type": "code",
   "execution_count": 10,
   "metadata": {},
   "outputs": [],
   "source": [
    "# Find Audio timestamps ('BNC1High'), process so no duplicates\n",
    "df_bnc1high = df_group_info.get_group('BNC1High')\n",
    "a = df_bnc1high['timestamps'].diff().fillna(df_bnc1high['timestamps']) > 10\n",
    "timestamps_bnc1high = df_bnc1high.loc[a].timestamps.to_numpy()"
   ]
  },
  {
   "cell_type": "code",
   "execution_count": 21,
   "metadata": {},
   "outputs": [],
   "source": [
    "timestamps_10ms = timestamps_bnc1high*100"
   ]
  },
  {
   "cell_type": "code",
   "execution_count": 23,
   "metadata": {},
   "outputs": [
    {
     "name": "stdout",
     "output_type": "stream",
     "text": [
      "[2137, 6215, 8293, 11370, 13449, 16547, 19628, 22718, 24806, 27886, 31966, 36040, 39109, 41184, 45255, 48327, 51397, 53468, 56547, 58618, 61693, 65765, 68839, 72925, 75008, 77079, 81152, 85229, 87302, 91373, 95447, 99517, 101590, 105665, 107739, 111807, 113884, 115955, 120025, 122100, 125174, 128249, 130324, 132397, 135468, 139544, 142617, 144690, 148765, 151838, 155913, 158991, 161066, 163142, 167216, 171286, 174359, 176435, 178513, 181588, 184667, 188743, 192817, 195891, 197965, 201038, 205110, 209184, 211275, 214356, 217440, 219517, 222592, 226663, 230751]\n"
     ]
    }
   ],
   "source": [
    "rounded_timestamps_10ms = [int(round(timestamps_10ms[i])) for i in range(len(timestamps_10ms))]\n",
    "print(rounded_timestamps_10ms)"
   ]
  },
  {
   "cell_type": "code",
   "execution_count": 31,
   "metadata": {},
   "outputs": [],
   "source": [
    "sampled_audio_10ms = np.zeros(rounded_timestamps_10ms[-1]+1)\n",
    "np.put(sampled_audio_10ms,rounded_timestamps_10ms,1)"
   ]
  },
  {
   "cell_type": "markdown",
   "metadata": {},
   "source": [
    "#### Checking Accuracy; should have the result as 'rounded_timestamps_10ms'"
   ]
  },
  {
   "cell_type": "code",
   "execution_count": 34,
   "metadata": {},
   "outputs": [
    {
     "data": {
      "text/plain": [
       "(array([  2137,   6215,   8293,  11370,  13449,  16547,  19628,  22718,\n",
       "         24806,  27886,  31966,  36040,  39109,  41184,  45255,  48327,\n",
       "         51397,  53468,  56547,  58618,  61693,  65765,  68839,  72925,\n",
       "         75008,  77079,  81152,  85229,  87302,  91373,  95447,  99517,\n",
       "        101590, 105665, 107739, 111807, 113884, 115955, 120025, 122100,\n",
       "        125174, 128249, 130324, 132397, 135468, 139544, 142617, 144690,\n",
       "        148765, 151838, 155913, 158991, 161066, 163142, 167216, 171286,\n",
       "        174359, 176435, 178513, 181588, 184667, 188743, 192817, 195891,\n",
       "        197965, 201038, 205110, 209184, 211275, 214356, 217440, 219517,\n",
       "        222592, 226663, 230751]),)"
      ]
     },
     "execution_count": 34,
     "metadata": {},
     "output_type": "execute_result"
    }
   ],
   "source": [
    "np.where(sampled_audio_10ms == 1)"
   ]
  },
  {
   "cell_type": "markdown",
   "metadata": {},
   "source": [
    "Correct yeah!"
   ]
  },
  {
   "cell_type": "markdown",
   "metadata": {},
   "source": [
    "## Creating DataFrame: 'Sampled_10ms.audio'"
   ]
  },
  {
   "cell_type": "code",
   "execution_count": 35,
   "metadata": {},
   "outputs": [],
   "source": [
    "# intialise data of lists. \n",
    "data = {'Sampled_10ms.audio':sampled_audio_10ms} \n",
    "# Create DataFrame \n",
    "df_audio = pd.DataFrame(data)"
   ]
  },
  {
   "cell_type": "code",
   "execution_count": 36,
   "metadata": {},
   "outputs": [
    {
     "data": {
      "text/html": [
       "<div>\n",
       "<style scoped>\n",
       "    .dataframe tbody tr th:only-of-type {\n",
       "        vertical-align: middle;\n",
       "    }\n",
       "\n",
       "    .dataframe tbody tr th {\n",
       "        vertical-align: top;\n",
       "    }\n",
       "\n",
       "    .dataframe thead th {\n",
       "        text-align: right;\n",
       "    }\n",
       "</style>\n",
       "<table border=\"1\" class=\"dataframe\">\n",
       "  <thead>\n",
       "    <tr style=\"text-align: right;\">\n",
       "      <th></th>\n",
       "      <th>Sampled_10ms.audio</th>\n",
       "    </tr>\n",
       "  </thead>\n",
       "  <tbody>\n",
       "    <tr>\n",
       "      <th>0</th>\n",
       "      <td>0.0</td>\n",
       "    </tr>\n",
       "    <tr>\n",
       "      <th>1</th>\n",
       "      <td>0.0</td>\n",
       "    </tr>\n",
       "    <tr>\n",
       "      <th>2</th>\n",
       "      <td>0.0</td>\n",
       "    </tr>\n",
       "    <tr>\n",
       "      <th>3</th>\n",
       "      <td>0.0</td>\n",
       "    </tr>\n",
       "    <tr>\n",
       "      <th>4</th>\n",
       "      <td>0.0</td>\n",
       "    </tr>\n",
       "    <tr>\n",
       "      <th>...</th>\n",
       "      <td>...</td>\n",
       "    </tr>\n",
       "    <tr>\n",
       "      <th>230747</th>\n",
       "      <td>0.0</td>\n",
       "    </tr>\n",
       "    <tr>\n",
       "      <th>230748</th>\n",
       "      <td>0.0</td>\n",
       "    </tr>\n",
       "    <tr>\n",
       "      <th>230749</th>\n",
       "      <td>0.0</td>\n",
       "    </tr>\n",
       "    <tr>\n",
       "      <th>230750</th>\n",
       "      <td>0.0</td>\n",
       "    </tr>\n",
       "    <tr>\n",
       "      <th>230751</th>\n",
       "      <td>1.0</td>\n",
       "    </tr>\n",
       "  </tbody>\n",
       "</table>\n",
       "<p>230752 rows × 1 columns</p>\n",
       "</div>"
      ],
      "text/plain": [
       "        Sampled_10ms.audio\n",
       "0                      0.0\n",
       "1                      0.0\n",
       "2                      0.0\n",
       "3                      0.0\n",
       "4                      0.0\n",
       "...                    ...\n",
       "230747                 0.0\n",
       "230748                 0.0\n",
       "230749                 0.0\n",
       "230750                 0.0\n",
       "230751                 1.0\n",
       "\n",
       "[230752 rows x 1 columns]"
      ]
     },
     "execution_count": 36,
     "metadata": {},
     "output_type": "execute_result"
    }
   ],
   "source": [
    "df_audio"
   ]
  },
  {
   "cell_type": "code",
   "execution_count": 37,
   "metadata": {},
   "outputs": [],
   "source": [
    "df_audio.to_hdf('Sampled_10ms.h5', key = 'dfaudio')"
   ]
  },
  {
   "cell_type": "code",
   "execution_count": null,
   "metadata": {},
   "outputs": [],
   "source": []
  }
 ],
 "metadata": {
  "kernelspec": {
   "display_name": "Python 3",
   "language": "python",
   "name": "python3"
  },
  "language_info": {
   "codemirror_mode": {
    "name": "ipython",
    "version": 3
   },
   "file_extension": ".py",
   "mimetype": "text/x-python",
   "name": "python",
   "nbconvert_exporter": "python",
   "pygments_lexer": "ipython3",
   "version": "3.6.10"
  }
 },
 "nbformat": 4,
 "nbformat_minor": 4
}
