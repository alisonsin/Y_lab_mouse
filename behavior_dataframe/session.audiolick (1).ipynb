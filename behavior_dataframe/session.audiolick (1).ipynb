{
 "cells": [
  {
   "cell_type": "code",
   "execution_count": 1,
   "metadata": {},
   "outputs": [],
   "source": [
    "import pandas as pd \n",
    "import numpy as np"
   ]
  },
  {
   "cell_type": "code",
   "execution_count": 2,
   "metadata": {},
   "outputs": [],
   "source": [
    "raw_sessiondata = pd.read_csv(\"20210113-133853.csv\", skiprows=6, delimiter = ';')"
   ]
  },
  {
   "cell_type": "code",
   "execution_count": 3,
   "metadata": {},
   "outputs": [],
   "source": [
    "#Add a column for 'timestamps'\n",
    "import time\n",
    "import datetime\n",
    "import ciso8601\n",
    "\n",
    "timestamp = []\n",
    "for i in range(len(raw_sessiondata.index)):\n",
    "    t = raw_sessiondata['PC-TIME'].iloc[i]\n",
    "    ts= ciso8601.parse_datetime(t)\n",
    "    if i == 0:\n",
    "        t0= time.mktime(ts.timetuple())+ts.microsecond/1000000\n",
    "        timestamp.append(np.around(t0-t0,3))\n",
    "    else:\n",
    "        tnow = time.mktime(ts.timetuple())+ts.microsecond/1000000\n",
    "        timestamp.append(np.around(tnow-t0,3))\n",
    "\n",
    "raw_sessiondata['timestamps'] = timestamp"
   ]
  },
  {
   "cell_type": "code",
   "execution_count": 4,
   "metadata": {},
   "outputs": [],
   "source": [
    "df_group_info = raw_sessiondata.groupby('+INFO')\n",
    "df_group_type = raw_sessiondata.groupby('TYPE')"
   ]
  },
  {
   "cell_type": "markdown",
   "metadata": {},
   "source": [
    "## Stimulus (Audio) Time"
   ]
  },
  {
   "cell_type": "code",
   "execution_count": 5,
   "metadata": {},
   "outputs": [],
   "source": [
    "# Find Audio timestamps ('BNC1High'), process so no duplicates\n",
    "df_bnc1high = df_group_info.get_group('BNC1High')\n",
    "a = df_bnc1high['timestamps'].diff().fillna(df_bnc1high['timestamps']) > 10\n",
    "timestamps_bnc1high = df_bnc1high.loc[a].timestamps.to_numpy()"
   ]
  },
  {
   "cell_type": "code",
   "execution_count": 8,
   "metadata": {},
   "outputs": [
    {
     "data": {
      "text/plain": [
       "array([  21.372,   62.148,   82.933,  113.702,  134.487,  165.471,\n",
       "        196.28 ,  227.179,  248.061,  278.855,  319.656,  360.397,\n",
       "        391.093,  411.841,  452.546,  483.274,  513.971,  534.681,\n",
       "        565.468,  586.184,  616.935,  657.647,  688.392,  729.247,\n",
       "        750.082,  770.789,  811.516,  852.292,  873.024,  913.73 ,\n",
       "        954.466,  995.174, 1015.896, 1056.647, 1077.386, 1118.07 ,\n",
       "       1138.835, 1159.552, 1200.25 , 1221.003, 1251.744, 1282.486,\n",
       "       1303.243, 1323.968, 1354.675, 1395.437, 1426.174, 1446.901,\n",
       "       1487.651, 1518.385, 1559.126, 1589.91 , 1610.663, 1631.424,\n",
       "       1672.163, 1712.863, 1743.588, 1764.35 , 1785.127, 1815.884,\n",
       "       1846.67 , 1887.433, 1928.166, 1958.91 , 1979.65 , 2010.377,\n",
       "       2051.096, 2091.835, 2112.751, 2143.564, 2174.396, 2195.168,\n",
       "       2225.922, 2266.626, 2307.507])"
      ]
     },
     "execution_count": 8,
     "metadata": {},
     "output_type": "execute_result"
    }
   ],
   "source": [
    "timestamps_bnc1high"
   ]
  },
  {
   "cell_type": "markdown",
   "metadata": {},
   "source": [
    "## Lick Response Time"
   ]
  },
  {
   "cell_type": "code",
   "execution_count": 9,
   "metadata": {},
   "outputs": [],
   "source": [
    "# Get lick onsets \n",
    "df_port1out = df_group_info.get_group('Port1Out')\n",
    "timestamps_lickon = df_port1out.timestamps.to_numpy()"
   ]
  },
  {
   "cell_type": "markdown",
   "metadata": {},
   "source": [
    "#### In response to 1st stimulus -> 8 licks"
   ]
  },
  {
   "cell_type": "code",
   "execution_count": 22,
   "metadata": {},
   "outputs": [
    {
     "data": {
      "text/plain": [
       "array([21.611, 21.751, 21.936, 22.075, 22.253, 22.385, 22.555, 25.177,\n",
       "       34.642])"
      ]
     },
     "execution_count": 22,
     "metadata": {},
     "output_type": "execute_result"
    }
   ],
   "source": [
    "timestamps_lickon[6:15]"
   ]
  },
  {
   "cell_type": "markdown",
   "metadata": {},
   "source": [
    "#### In between 1st - 2nd stimulus -> 7 licks"
   ]
  },
  {
   "cell_type": "code",
   "execution_count": 40,
   "metadata": {},
   "outputs": [
    {
     "data": {
      "text/plain": [
       "array([34.642, 34.785, 35.006, 35.209, 47.2  , 52.594, 52.849, 62.371])"
      ]
     },
     "execution_count": 40,
     "metadata": {},
     "output_type": "execute_result"
    }
   ],
   "source": [
    "timestamps_lickon[14:22]"
   ]
  },
  {
   "cell_type": "markdown",
   "metadata": {},
   "source": [
    "#### In response to 2nd stimulus -> 23 licks"
   ]
  },
  {
   "cell_type": "code",
   "execution_count": 33,
   "metadata": {},
   "outputs": [
    {
     "data": {
      "text/plain": [
       "array([62.371, 62.529, 62.71 , 62.855, 63.009, 63.177, 63.333, 63.494,\n",
       "       63.634, 63.797, 63.974, 64.134, 64.306, 64.477, 64.648, 64.84 ,\n",
       "       65.004, 65.184, 65.347, 65.523, 65.696, 65.863, 66.416, 83.178])"
      ]
     },
     "execution_count": 33,
     "metadata": {},
     "output_type": "execute_result"
    }
   ],
   "source": [
    "timestamps_lickon[21:45]"
   ]
  },
  {
   "cell_type": "markdown",
   "metadata": {},
   "source": [
    "#### In between 2nd - 3rd stimulus -> 0 licks!"
   ]
  },
  {
   "cell_type": "markdown",
   "metadata": {},
   "source": [
    "## Finding: In response to the audio stimulus:\n",
    "1. sometimes they will lick more\n",
    "2. sometimes they will lick in between sessions, and sometimes they don't"
   ]
  },
  {
   "cell_type": "code",
   "execution_count": null,
   "metadata": {},
   "outputs": [],
   "source": []
  },
  {
   "cell_type": "code",
   "execution_count": null,
   "metadata": {},
   "outputs": [],
   "source": []
  },
  {
   "cell_type": "code",
   "execution_count": null,
   "metadata": {},
   "outputs": [],
   "source": []
  },
  {
   "cell_type": "code",
   "execution_count": null,
   "metadata": {},
   "outputs": [],
   "source": []
  },
  {
   "cell_type": "code",
   "execution_count": null,
   "metadata": {},
   "outputs": [],
   "source": []
  },
  {
   "cell_type": "code",
   "execution_count": null,
   "metadata": {},
   "outputs": [],
   "source": []
  },
  {
   "cell_type": "code",
   "execution_count": null,
   "metadata": {},
   "outputs": [],
   "source": []
  },
  {
   "cell_type": "markdown",
   "metadata": {},
   "source": [
    "## How do their licking behavior (frequency, number) changes as more audio is being presented?"
   ]
  },
  {
   "cell_type": "code",
   "execution_count": null,
   "metadata": {},
   "outputs": [],
   "source": []
  },
  {
   "cell_type": "code",
   "execution_count": null,
   "metadata": {},
   "outputs": [],
   "source": []
  },
  {
   "cell_type": "markdown",
   "metadata": {},
   "source": [
    "## How does the number of in-between stimulus response lick changes?"
   ]
  },
  {
   "cell_type": "code",
   "execution_count": null,
   "metadata": {},
   "outputs": [],
   "source": []
  },
  {
   "cell_type": "code",
   "execution_count": null,
   "metadata": {},
   "outputs": [],
   "source": []
  },
  {
   "cell_type": "code",
   "execution_count": null,
   "metadata": {},
   "outputs": [],
   "source": []
  },
  {
   "cell_type": "code",
   "execution_count": 8,
   "metadata": {},
   "outputs": [],
   "source": [
    "# intialise data of lists. \n",
    "data = {'lick_time':timestamps_lickon} \n",
    "# Create DataFrame \n",
    "df = pd.DataFrame(data)"
   ]
  },
  {
   "cell_type": "code",
   "execution_count": 9,
   "metadata": {},
   "outputs": [
    {
     "data": {
      "text/html": [
       "<div>\n",
       "<style scoped>\n",
       "    .dataframe tbody tr th:only-of-type {\n",
       "        vertical-align: middle;\n",
       "    }\n",
       "\n",
       "    .dataframe tbody tr th {\n",
       "        vertical-align: top;\n",
       "    }\n",
       "\n",
       "    .dataframe thead th {\n",
       "        text-align: right;\n",
       "    }\n",
       "</style>\n",
       "<table border=\"1\" class=\"dataframe\">\n",
       "  <thead>\n",
       "    <tr style=\"text-align: right;\">\n",
       "      <th></th>\n",
       "      <th>lick_time</th>\n",
       "    </tr>\n",
       "  </thead>\n",
       "  <tbody>\n",
       "    <tr>\n",
       "      <th>0</th>\n",
       "      <td>7.912</td>\n",
       "    </tr>\n",
       "    <tr>\n",
       "      <th>1</th>\n",
       "      <td>8.191</td>\n",
       "    </tr>\n",
       "    <tr>\n",
       "      <th>2</th>\n",
       "      <td>8.541</td>\n",
       "    </tr>\n",
       "    <tr>\n",
       "      <th>3</th>\n",
       "      <td>8.723</td>\n",
       "    </tr>\n",
       "    <tr>\n",
       "      <th>4</th>\n",
       "      <td>16.754</td>\n",
       "    </tr>\n",
       "    <tr>\n",
       "      <th>...</th>\n",
       "      <td>...</td>\n",
       "    </tr>\n",
       "    <tr>\n",
       "      <th>2131</th>\n",
       "      <td>2307.753</td>\n",
       "    </tr>\n",
       "    <tr>\n",
       "      <th>2132</th>\n",
       "      <td>2307.879</td>\n",
       "    </tr>\n",
       "    <tr>\n",
       "      <th>2133</th>\n",
       "      <td>2308.027</td>\n",
       "    </tr>\n",
       "    <tr>\n",
       "      <th>2134</th>\n",
       "      <td>2308.196</td>\n",
       "    </tr>\n",
       "    <tr>\n",
       "      <th>2135</th>\n",
       "      <td>2308.301</td>\n",
       "    </tr>\n",
       "  </tbody>\n",
       "</table>\n",
       "<p>2136 rows × 1 columns</p>\n",
       "</div>"
      ],
      "text/plain": [
       "      lick_time\n",
       "0         7.912\n",
       "1         8.191\n",
       "2         8.541\n",
       "3         8.723\n",
       "4        16.754\n",
       "...         ...\n",
       "2131   2307.753\n",
       "2132   2307.879\n",
       "2133   2308.027\n",
       "2134   2308.196\n",
       "2135   2308.301\n",
       "\n",
       "[2136 rows x 1 columns]"
      ]
     },
     "execution_count": 9,
     "metadata": {},
     "output_type": "execute_result"
    }
   ],
   "source": [
    "df"
   ]
  },
  {
   "cell_type": "code",
   "execution_count": null,
   "metadata": {},
   "outputs": [],
   "source": []
  }
 ],
 "metadata": {
  "kernelspec": {
   "display_name": "Python 3",
   "language": "python",
   "name": "python3"
  },
  "language_info": {
   "codemirror_mode": {
    "name": "ipython",
    "version": 3
   },
   "file_extension": ".py",
   "mimetype": "text/x-python",
   "name": "python",
   "nbconvert_exporter": "python",
   "pygments_lexer": "ipython3",
   "version": "3.6.10"
  }
 },
 "nbformat": 4,
 "nbformat_minor": 4
}
