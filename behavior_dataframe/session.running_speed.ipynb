{
 "cells": [
  {
   "cell_type": "code",
   "execution_count": 4,
   "metadata": {},
   "outputs": [],
   "source": [
    "import numpy as np\n",
    "import pandas as pd\n",
    "import math\n",
    "import scipy.interpolate as interpolate"
   ]
  },
  {
   "cell_type": "markdown",
   "metadata": {},
   "source": [
    "## Importing Raw Encoder Data and Pre-processing"
   ]
  },
  {
   "cell_type": "code",
   "execution_count": 5,
   "metadata": {},
   "outputs": [],
   "source": [
    "wheel_perim = 1.25 * 2 * np.pi \n",
    "mm_per_degree = wheel_perim / 360\n",
    "\n",
    "raw_encoderdata = pd.read_csv(\"rotaryencoder_data.csv\", delimiter = ',', names =[\"Type\",\"PC_TIME\",\"EVT_TIME\",'VALUE'])\n",
    "\n",
    "raw_encoderdata.VALUE = raw_encoderdata.VALUE.diff() #Find angular differences\n",
    "raw_encoderdata.loc[raw_encoderdata['VALUE'] > 1, 'VALUE'] = -0.9#find -180to180 data points and convert\n",
    "raw_encoderdata.loc[raw_encoderdata['VALUE'] < -1, 'VALUE'] = 0.9#find -180to180 data points and convert\n",
    "raw_encoderdata.VALUE = raw_encoderdata.VALUE * -mm_per_degree \n",
    "raw_encoderdata.EVT_TIME = raw_encoderdata.EVT_TIME - raw_encoderdata.EVT_TIME[0]\n",
    "raw_encoderdata.EVT_TIME =np.ceil(raw_encoderdata.EVT_TIME/1000.0)"
   ]
  },
  {
   "cell_type": "code",
   "execution_count": 22,
   "metadata": {},
   "outputs": [],
   "source": [
    "raw_encoderdata1000ms = raw_encoderdata.groupby(['EVT_TIME']).sum().reset_index()\n",
    "f = interpolate.interp1d(raw_encoderdata1000ms.EVT_TIME, raw_encoderdata1000ms.VALUE)\n",
    "speed1s = f(np.arange(raw_encoderdata1000ms.EVT_TIME.iloc[-1]))\n",
    "speed1ms = f(np.arange(1,raw_encoderdata1000ms.EVT_TIME.iloc[-1],1/1000))"
   ]
  },
  {
   "cell_type": "code",
   "execution_count": 7,
   "metadata": {},
   "outputs": [
    {
     "name": "stdout",
     "output_type": "stream",
     "text": [
      "Stored 'speed1s' (ndarray)\n",
      "Stored 'speed1ms' (ndarray)\n"
     ]
    }
   ],
   "source": [
    "%store speed1s\n",
    "%store speed1ms"
   ]
  },
  {
   "cell_type": "markdown",
   "metadata": {},
   "source": [
    "## Creating DataFrame: 'session.running_speed'"
   ]
  },
  {
   "cell_type": "code",
   "execution_count": 41,
   "metadata": {},
   "outputs": [],
   "source": [
    "# intialise data of lists. \n",
    "data = {'time1ms':np.arange(0,len(speed1s)-1,1/1000),\n",
    "       'speed1ms' :speed1ms } \n",
    "# Create DataFrame \n",
    "df_runspeed1ms = pd.DataFrame(data)"
   ]
  },
  {
   "cell_type": "code",
   "execution_count": 42,
   "metadata": {},
   "outputs": [
    {
     "data": {
      "text/html": [
       "<div>\n",
       "<style scoped>\n",
       "    .dataframe tbody tr th:only-of-type {\n",
       "        vertical-align: middle;\n",
       "    }\n",
       "\n",
       "    .dataframe tbody tr th {\n",
       "        vertical-align: top;\n",
       "    }\n",
       "\n",
       "    .dataframe thead th {\n",
       "        text-align: right;\n",
       "    }\n",
       "</style>\n",
       "<table border=\"1\" class=\"dataframe\">\n",
       "  <thead>\n",
       "    <tr style=\"text-align: right;\">\n",
       "      <th></th>\n",
       "      <th>time1ms</th>\n",
       "      <th>speed1ms</th>\n",
       "    </tr>\n",
       "  </thead>\n",
       "  <tbody>\n",
       "    <tr>\n",
       "      <th>0</th>\n",
       "      <td>0.000</td>\n",
       "      <td>0.235619</td>\n",
       "    </tr>\n",
       "    <tr>\n",
       "      <th>1</th>\n",
       "      <td>0.001</td>\n",
       "      <td>0.235973</td>\n",
       "    </tr>\n",
       "    <tr>\n",
       "      <th>2</th>\n",
       "      <td>0.002</td>\n",
       "      <td>0.236326</td>\n",
       "    </tr>\n",
       "    <tr>\n",
       "      <th>3</th>\n",
       "      <td>0.003</td>\n",
       "      <td>0.236680</td>\n",
       "    </tr>\n",
       "    <tr>\n",
       "      <th>4</th>\n",
       "      <td>0.004</td>\n",
       "      <td>0.237033</td>\n",
       "    </tr>\n",
       "    <tr>\n",
       "      <th>...</th>\n",
       "      <td>...</td>\n",
       "      <td>...</td>\n",
       "    </tr>\n",
       "    <tr>\n",
       "      <th>2306995</th>\n",
       "      <td>2306.995</td>\n",
       "      <td>0.140586</td>\n",
       "    </tr>\n",
       "    <tr>\n",
       "      <th>2306996</th>\n",
       "      <td>2306.996</td>\n",
       "      <td>0.139958</td>\n",
       "    </tr>\n",
       "    <tr>\n",
       "      <th>2306997</th>\n",
       "      <td>2306.997</td>\n",
       "      <td>0.139330</td>\n",
       "    </tr>\n",
       "    <tr>\n",
       "      <th>2306998</th>\n",
       "      <td>2306.998</td>\n",
       "      <td>0.138701</td>\n",
       "    </tr>\n",
       "    <tr>\n",
       "      <th>2306999</th>\n",
       "      <td>2306.999</td>\n",
       "      <td>0.138073</td>\n",
       "    </tr>\n",
       "  </tbody>\n",
       "</table>\n",
       "<p>2307000 rows × 2 columns</p>\n",
       "</div>"
      ],
      "text/plain": [
       "          time1ms  speed1ms\n",
       "0           0.000  0.235619\n",
       "1           0.001  0.235973\n",
       "2           0.002  0.236326\n",
       "3           0.003  0.236680\n",
       "4           0.004  0.237033\n",
       "...           ...       ...\n",
       "2306995  2306.995  0.140586\n",
       "2306996  2306.996  0.139958\n",
       "2306997  2306.997  0.139330\n",
       "2306998  2306.998  0.138701\n",
       "2306999  2306.999  0.138073\n",
       "\n",
       "[2307000 rows x 2 columns]"
      ]
     },
     "execution_count": 42,
     "metadata": {},
     "output_type": "execute_result"
    }
   ],
   "source": [
    "df_runspeed1ms"
   ]
  },
  {
   "cell_type": "markdown",
   "metadata": {},
   "source": [
    "**Saving to CSV**"
   ]
  },
  {
   "cell_type": "code",
   "execution_count": 44,
   "metadata": {},
   "outputs": [],
   "source": [
    "df_runspeed1ms.to_csv('session.running_speed1ms.csv',index=False)"
   ]
  }
 ],
 "metadata": {
  "kernelspec": {
   "display_name": "Python 3",
   "language": "python",
   "name": "python3"
  },
  "language_info": {
   "codemirror_mode": {
    "name": "ipython",
    "version": 3
   },
   "file_extension": ".py",
   "mimetype": "text/x-python",
   "name": "python",
   "nbconvert_exporter": "python",
   "pygments_lexer": "ipython3",
   "version": "3.6.10"
  }
 },
 "nbformat": 4,
 "nbformat_minor": 4
}
