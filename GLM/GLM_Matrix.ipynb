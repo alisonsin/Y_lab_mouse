{
 "cells": [
  {
   "cell_type": "code",
   "execution_count": 6,
   "metadata": {},
   "outputs": [],
   "source": [
    "import pandas as pd \n",
    "import numpy as np"
   ]
  },
  {
   "cell_type": "code",
   "execution_count": 7,
   "metadata": {},
   "outputs": [],
   "source": [
    "raw_sessiondata = pd.read_csv(\"20210113-133853.csv\", skiprows=6, delimiter = ';')"
   ]
  },
  {
   "cell_type": "code",
   "execution_count": 8,
   "metadata": {},
   "outputs": [],
   "source": [
    "#Add a column for 'timestamps'\n",
    "import time\n",
    "import datetime\n",
    "import ciso8601\n",
    "\n",
    "timestamp = []\n",
    "for i in range(len(raw_sessiondata.index)):\n",
    "    t = raw_sessiondata['PC-TIME'].iloc[i]\n",
    "    ts= ciso8601.parse_datetime(t)\n",
    "    if i == 0:\n",
    "        t0= time.mktime(ts.timetuple())+ts.microsecond/1000000\n",
    "        timestamp.append(np.around(t0-t0,3))\n",
    "    else:\n",
    "        tnow = time.mktime(ts.timetuple())+ts.microsecond/1000000\n",
    "        timestamp.append(np.around(tnow-t0,3))\n",
    "\n",
    "raw_sessiondata['timestamps'] = timestamp"
   ]
  },
  {
   "cell_type": "code",
   "execution_count": 14,
   "metadata": {},
   "outputs": [],
   "source": [
    "df_group_msg = raw_sessiondata.groupby('MSG')\n",
    "df_group_info = raw_sessiondata.groupby('+INFO')\n",
    "df_group_type = raw_sessiondata.groupby('TYPE')"
   ]
  },
  {
   "cell_type": "markdown",
   "metadata": {},
   "source": [
    "# X Matrix"
   ]
  },
  {
   "cell_type": "markdown",
   "metadata": {},
   "source": [
    "### Step 1: Get Reward Timestamp"
   ]
  },
  {
   "cell_type": "code",
   "execution_count": 10,
   "metadata": {},
   "outputs": [],
   "source": [
    "# Get lick onsets \n",
    "df_openvalve = df_group_msg.get_group('open_valve')\n",
    "timestamps_reward = df_openvalve.timestamps.to_numpy()"
   ]
  },
  {
   "cell_type": "code",
   "execution_count": 11,
   "metadata": {},
   "outputs": [],
   "source": [
    "# Get Reward ON timestamp\n",
    "evenindex = np.arange(0, len(timestamps_reward) + 2, 2)\n",
    "rewardON = np.take(timestamps_reward, evenindex[:-1])"
   ]
  },
  {
   "cell_type": "code",
   "execution_count": 12,
   "metadata": {},
   "outputs": [],
   "source": [
    "# Get Reward OFF timestamp\n",
    "odd = evenindex-1\n",
    "oddindex = odd[1:]\n",
    "rewardOFF = np.take(timestamps_reward, oddindex)"
   ]
  },
  {
   "cell_type": "markdown",
   "metadata": {},
   "source": [
    "### Step 2: Get run speed BEFORE each reward (X1)"
   ]
  },
  {
   "cell_type": "markdown",
   "metadata": {},
   "source": [
    "Here, I am getting run speed 10s before reward delivery, totally arbituary"
   ]
  },
  {
   "cell_type": "code",
   "execution_count": 72,
   "metadata": {},
   "outputs": [],
   "source": [
    "df_run = pd.read_hdf('session.running_speed1ms.h5')"
   ]
  },
  {
   "cell_type": "code",
   "execution_count": 105,
   "metadata": {},
   "outputs": [],
   "source": [
    "prereward = []\n",
    "for i in range(len(rewardON)):\n",
    "    a = df_run[(rewardON[0] - 10 <df_run['timestamps']) & (df_run['timestamps']<rewardON[0])]['speed1ms']\n",
    "    prereward.append(a)\n",
    "\n",
    "speed_prereward = np.array(prereward)"
   ]
  },
  {
   "cell_type": "code",
   "execution_count": 106,
   "metadata": {},
   "outputs": [
    {
     "data": {
      "text/plain": [
       "(75, 9999)"
      ]
     },
     "execution_count": 106,
     "metadata": {},
     "output_type": "execute_result"
    }
   ],
   "source": [
    "np.shape(speed_prereward)"
   ]
  },
  {
   "cell_type": "markdown",
   "metadata": {},
   "source": [
    "### Step 3: Get number of licks per reward; then append 0 (X2 - prior_numoflicks)"
   ]
  },
  {
   "cell_type": "markdown",
   "metadata": {},
   "source": [
    "To calculate the number of lick per reward, I use the licks between\n",
    "i) rewardON\n",
    "ii) audioON for next reward\n",
    "\n",
    "I'm usinge the audio timestamp of NEXT reward as cut off, bc I notice that they'd \n",
    "lick before the next reward (should be bc they knew the cue)"
   ]
  },
  {
   "cell_type": "code",
   "execution_count": 16,
   "metadata": {},
   "outputs": [],
   "source": [
    "# Get Lick timestamps\n",
    "df_port1out = df_group_info.get_group('Port1Out')\n",
    "timestamps_lickon = df_port1out.timestamps.to_numpy()"
   ]
  },
  {
   "cell_type": "code",
   "execution_count": 34,
   "metadata": {},
   "outputs": [],
   "source": [
    "# Find Audio timestamps ('BNC1High'), process so no duplicates\n",
    "df_bnc1high = df_group_info.get_group('BNC1High')\n",
    "a = df_bnc1high['timestamps'].diff().fillna(df_bnc1high['timestamps']) > 10\n",
    "timestamps_bnc1high = df_bnc1high.loc[a].timestamps.to_numpy()"
   ]
  },
  {
   "cell_type": "code",
   "execution_count": 55,
   "metadata": {},
   "outputs": [],
   "source": [
    "# Calculate number of lick during each reward\n",
    "noflicks = [0]\n",
    "for i in range(len(rewardON)-1):\n",
    "    noflicks.append(((rewardON[i] < timestamps_lickon) \n",
    "                       & (timestamps_lickon < timestamps_bnc1high[i+1]).sum())"
   ]
  },
  {
   "cell_type": "code",
   "execution_count": 57,
   "metadata": {},
   "outputs": [
    {
     "data": {
      "text/plain": [
       "array([ 0, 14, 22, 32, 16, 17, 20, 19, 53, 11, 27, 27, 22, 27, 30, 28, 28,\n",
       "       25, 42, 19, 20, 30, 58, 20, 50, 34, 30, 28, 25, 24, 42, 33, 23, 61,\n",
       "       22, 37, 32, 28, 23, 25, 28, 25, 32, 25, 30, 30, 33, 27, 32, 11, 25,\n",
       "       29, 24, 26, 41, 15, 17, 31, 29, 26, 21, 32, 26, 27, 26, 30, 21, 25,\n",
       "       38, 23, 24, 17, 30, 21, 30])"
      ]
     },
     "execution_count": 57,
     "metadata": {},
     "output_type": "execute_result"
    }
   ],
   "source": [
    "prior_numoflicks = np.array(noflicks)\n",
    "prior_numoflicks"
   ]
  },
  {
   "cell_type": "code",
   "execution_count": 95,
   "metadata": {},
   "outputs": [
    {
     "data": {
      "text/plain": [
       "(75,)"
      ]
     },
     "execution_count": 95,
     "metadata": {},
     "output_type": "execute_result"
    }
   ],
   "source": [
    "np.shape(prior_numoflicks)"
   ]
  },
  {
   "cell_type": "markdown",
   "metadata": {},
   "source": [
    "#### Checking / verification"
   ]
  },
  {
   "cell_type": "code",
   "execution_count": 42,
   "metadata": {},
   "outputs": [
    {
     "name": "stdout",
     "output_type": "stream",
     "text": [
      "Begin time: 62.417\n",
      "Cut off time: 82.933\n",
      "Timestamps of licks: [62.371 62.529 62.71  62.855 63.009 63.177 63.333 63.494 63.634 63.797\n",
      " 63.974 64.134 64.306 64.477 64.648 64.84  65.004 65.184 65.347 65.523\n",
      " 65.696 65.863 66.416 83.178]\n",
      "The counted number of licks in between: 22\n"
     ]
    }
   ],
   "source": [
    "print('Begin time: ' + str(rewardON[1]))\n",
    "print('Cut off time: ' + str(timestamps_bnc1high[2]))\n",
    "print('Timestamps of licks: ' + str(timestamps_lickon[21:45]))\n",
    "print('The counted number of licks in between: ' + \n",
    "      str(((rewardON[1] < timestamps_lickon)\n",
    "           & (timestamps_lickon < timestamps_bnc1high[2])).sum()))"
   ]
  },
  {
   "cell_type": "markdown",
   "metadata": {},
   "source": [
    "### Step 4: Get volume of reward - 0/1/2 (X3 - rounded_reward_duration)"
   ]
  },
  {
   "cell_type": "code",
   "execution_count": 62,
   "metadata": {},
   "outputs": [
    {
     "name": "stdout",
     "output_type": "stream",
     "text": [
      "[0.05, 0.05, 0.05, 0.05, 0.05, 0.05, 0.05, 0.05, 0.05, 0.05, 0.05, 0.05, 0.05, 0.05, 0.05, 0.05, 0.05, 0.05, 0.05, 0.05, 0.05, 0.05, 0.05, 0.05, 0.05, 0.05, 0.05, 0.05, 0.05, 0.05, 0.05, 0.05, 0.05, 0.05, 0.05, 0.05, 0.05, 0.05, 0.05, 0.05, 0.05, 0.05, 0.05, 0.05, 0.05, 0.05, 0.05, 0.05, 0.05, 0.05, 0.05, 0.05, 0.05, 0.05, 0.05, 0.05, 0.05, 0.05, 0.05, 0.05, 0.05, 0.05, 0.05, 0.05, 0.05, 0.05, 0.05, 0.05, 0.05, 0.05, 0.05, 0.05, 0.05, 0.05, 0.05]\n"
     ]
    }
   ],
   "source": [
    "reward_duration = rewardOFF - rewardON\n",
    "rounded_reward_duration = [round(reward_duration[i], 2) for i in range(len(reward_duration))]\n",
    "print(rounded_reward_duration)"
   ]
  },
  {
   "cell_type": "code",
   "execution_count": 93,
   "metadata": {},
   "outputs": [
    {
     "data": {
      "text/plain": [
       "(75,)"
      ]
     },
     "execution_count": 93,
     "metadata": {},
     "output_type": "execute_result"
    }
   ],
   "source": [
    "np.shape(rounded_reward_duration)"
   ]
  },
  {
   "cell_type": "markdown",
   "metadata": {},
   "source": [
    "### Creating the Matrix"
   ]
  },
  {
   "cell_type": "code",
   "execution_count": 117,
   "metadata": {},
   "outputs": [],
   "source": [
    "X_matrix = np.column_stack((speed_prereward, prior_numoflicks,rounded_reward_duration))"
   ]
  },
  {
   "cell_type": "markdown",
   "metadata": {},
   "source": [
    "# Y vector"
   ]
  },
  {
   "cell_type": "code",
   "execution_count": 60,
   "metadata": {},
   "outputs": [
    {
     "data": {
      "text/plain": [
       "array([14, 22, 32, 16, 17, 20, 19, 53, 11, 27, 27, 22, 27, 30, 28, 28, 25,\n",
       "       42, 19, 20, 30, 58, 20, 50, 34, 30, 28, 25, 24, 42, 33, 23, 61, 22,\n",
       "       37, 32, 28, 23, 25, 28, 25, 32, 25, 30, 30, 33, 27, 32, 11, 25, 29,\n",
       "       24, 26, 41, 15, 17, 31, 29, 26, 21, 32, 26, 27, 26, 30, 21, 25, 38,\n",
       "       23, 24, 17, 30, 21, 30])"
      ]
     },
     "execution_count": 60,
     "metadata": {},
     "output_type": "execute_result"
    }
   ],
   "source": [
    "y_numoflicks = np.delete(prior_numoflicks,0)\n",
    "y_numoflicks"
   ]
  }
 ],
 "metadata": {
  "kernelspec": {
   "display_name": "Python 3",
   "language": "python",
   "name": "python3"
  },
  "language_info": {
   "codemirror_mode": {
    "name": "ipython",
    "version": 3
   },
   "file_extension": ".py",
   "mimetype": "text/x-python",
   "name": "python",
   "nbconvert_exporter": "python",
   "pygments_lexer": "ipython3",
   "version": "3.6.10"
  }
 },
 "nbformat": 4,
 "nbformat_minor": 4
}
