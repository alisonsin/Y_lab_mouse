{
 "cells": [
  {
   "cell_type": "code",
   "execution_count": 1,
   "metadata": {},
   "outputs": [],
   "source": [
    "import pandas as pd \n",
    "import numpy as np"
   ]
  },
  {
   "cell_type": "code",
   "execution_count": 2,
   "metadata": {},
   "outputs": [],
   "source": [
    "raw_sessiondata = pd.read_csv(\"20210309-125518.csv\", skiprows=6, delimiter = ';')"
   ]
  },
  {
   "cell_type": "code",
   "execution_count": 3,
   "metadata": {},
   "outputs": [],
   "source": [
    "#Add a column for 'timestamps'\n",
    "import time\n",
    "import datetime\n",
    "import ciso8601\n",
    "\n",
    "timestamp = []\n",
    "for i in range(len(raw_sessiondata.index)):\n",
    "    t = raw_sessiondata['PC-TIME'].iloc[i]\n",
    "    ts= ciso8601.parse_datetime(t)\n",
    "    if i == 0:\n",
    "        t0= time.mktime(ts.timetuple())+ts.microsecond/1000000\n",
    "        timestamp.append(np.around(t0-t0,3))\n",
    "    else:\n",
    "        tnow = time.mktime(ts.timetuple())+ts.microsecond/1000000\n",
    "        timestamp.append(np.around(tnow-t0,3))\n",
    "\n",
    "raw_sessiondata['timestamps'] = timestamp"
   ]
  },
  {
   "cell_type": "code",
   "execution_count": 4,
   "metadata": {},
   "outputs": [],
   "source": [
    "df_group_msg = raw_sessiondata.groupby('MSG')\n",
    "df_group_info = raw_sessiondata.groupby('+INFO')\n",
    "df_group_type = raw_sessiondata.groupby('TYPE')"
   ]
  },
  {
   "cell_type": "code",
   "execution_count": 5,
   "metadata": {},
   "outputs": [
    {
     "data": {
      "text/plain": [
       "87"
      ]
     },
     "execution_count": 5,
     "metadata": {},
     "output_type": "execute_result"
    }
   ],
   "source": [
    "#get open valve time to see how many times the valve has opened: i.e. when the animal actually licked in response to tone\n",
    "df_openvalve = df_group_msg.get_group('open_valve')\n",
    "timestamps_reward = df_openvalve.timestamps.to_numpy()\n",
    "len(timestamps_reward)"
   ]
  },
  {
   "cell_type": "markdown",
   "metadata": {},
   "source": [
    "# X Matrix"
   ]
  },
  {
   "cell_type": "markdown",
   "metadata": {},
   "source": [
    "#### Get Reward Timestamp"
   ]
  },
  {
   "cell_type": "code",
   "execution_count": 6,
   "metadata": {},
   "outputs": [],
   "source": [
    "# Get reward onsets \n",
    "df_lick_waiting = df_group_msg.get_group('lick_waiting')\n",
    "timestamps_lick_waiting = df_lick_waiting.timestamps.to_numpy()\n",
    "\n",
    "# Get Reward ON timestamp\n",
    "evenindex = np.arange(0, len(timestamps_lick_waiting) + 2, 2)\n",
    "rewardON = np.take(timestamps_lick_waiting, evenindex[:-1])"
   ]
  },
  {
   "cell_type": "code",
   "execution_count": 7,
   "metadata": {},
   "outputs": [],
   "source": [
    "# Get Reward OFF timestamp\n",
    "df_retract_spout = df_group_msg.get_group('retract_spout')\n",
    "timestamps_retract_spout = df_retract_spout.timestamps.to_numpy()\n",
    "rewardOFF = np.take(timestamps_retract_spout, evenindex[:-1])"
   ]
  },
  {
   "cell_type": "markdown",
   "metadata": {},
   "source": [
    "##### Note: Reward has delivered 44 times (i.e. odd number of 'open_valve') (i.e. animal has licked), but reward is delivered in 48 sessions, so the animals has missed 4 lick sessions!!!"
   ]
  },
  {
   "cell_type": "markdown",
   "metadata": {},
   "source": [
    "### Number of licks for each Reward"
   ]
  },
  {
   "cell_type": "code",
   "execution_count": 8,
   "metadata": {},
   "outputs": [],
   "source": [
    "# Get Lick timestamps\n",
    "df_port1out = df_group_info.get_group('Port1Out')\n",
    "df_port1out = df_port1out.timestamps.to_numpy()\n",
    "\n",
    "df_port2out = df_group_info.get_group('Port2Out')\n",
    "df_port2out = df_port2out.timestamps.to_numpy()\n",
    "\n",
    "df_port3out = df_group_info.get_group('Port3Out')\n",
    "df_port3out = df_port3out.timestamps.to_numpy()\n",
    "\n",
    "df_port4out = df_group_info.get_group('Port4Out')\n",
    "df_port4out = df_port4out.timestamps.to_numpy()"
   ]
  },
  {
   "cell_type": "code",
   "execution_count": 9,
   "metadata": {},
   "outputs": [],
   "source": [
    "#Aggregate all licking according to time\n",
    "allport = np.hstack((df_port1out,df_port2out, df_port3out,df_port4out))\n",
    "sorted_allport = np.sort(allport)"
   ]
  },
  {
   "cell_type": "markdown",
   "metadata": {},
   "source": [
    "## Sort lick behavior according to each trial"
   ]
  },
  {
   "cell_type": "code",
   "execution_count": 10,
   "metadata": {},
   "outputs": [],
   "source": [
    "lickpertrial = [[] for _ in range(48)]\n",
    "\n",
    "for i in range(48):\n",
    "    a = sorted_allport[(rewardON[i] < sorted_allport) & (sorted_allport< rewardOFF[i])]\n",
    "    lickpertrial[i].append(a)\n",
    "\n",
    "numoflickspertrial = np.zeros(48)\n",
    "for i in range(48):\n",
    "    numoflickspertrial[i] = len(lickpertrial[i][0])\n",
    "\n",
    "b = [i for i in range(48)]"
   ]
  },
  {
   "cell_type": "code",
   "execution_count": 11,
   "metadata": {},
   "outputs": [
    {
     "data": {
      "text/plain": [
       "Text(0, 0.5, 'Number of Licks per Trial')"
      ]
     },
     "execution_count": 11,
     "metadata": {},
     "output_type": "execute_result"
    },
    {
     "data": {
      "image/png": "[encoded data removed]",
      "text/plain": [
       "<Figure size 432x288 with 1 Axes>"
      ]
     },
     "metadata": {
      "needs_background": "light"
     },
     "output_type": "display_data"
    }
   ],
   "source": [
    "import matplotlib.pyplot as plt\n",
    "plt.bar(b, numoflickspertrial)\n",
    "plt.xlabel('Trial')\n",
    "plt.ylabel('Number of Licks per Trial')"
   ]
  },
  {
   "cell_type": "markdown",
   "metadata": {},
   "source": [
    "### X1 (Feature 1): Run speed before each Reward"
   ]
  },
  {
   "cell_type": "markdown",
   "metadata": {},
   "source": [
    "Here, I am getting run speed 5s before reward delivery, totally arbituary"
   ]
  },
  {
   "cell_type": "code",
   "execution_count": 12,
   "metadata": {},
   "outputs": [],
   "source": [
    "df_run = pd.read_hdf('session.running_speed1ms.h5')"
   ]
  },
  {
   "cell_type": "code",
   "execution_count": 13,
   "metadata": {},
   "outputs": [],
   "source": [
    "prereward = []\n",
    "for i in range(len(rewardON)):\n",
    "    a = df_run[(rewardON[0] - 5 <df_run['timestamps']) & (df_run['timestamps']<rewardON[0])]['speed1ms']\n",
    "    prereward.append(a)\n",
    "\n",
    "speed_prereward = np.array(prereward)"
   ]
  },
  {
   "cell_type": "code",
   "execution_count": 14,
   "metadata": {},
   "outputs": [
    {
     "data": {
      "text/plain": [
       "(48, 4999)"
      ]
     },
     "execution_count": 14,
     "metadata": {},
     "output_type": "execute_result"
    }
   ],
   "source": [
    "np.shape(speed_prereward)"
   ]
  },
  {
   "cell_type": "markdown",
   "metadata": {},
   "source": [
    "### X2 (Feature 2): Latency to Lick after tone is played"
   ]
  },
  {
   "cell_type": "code",
   "execution_count": 15,
   "metadata": {},
   "outputs": [],
   "source": [
    "# Find Audio timestamps ('BNC1High'), process so no duplicates\n",
    "df_audio = df_group_msg.get_group('trial_start')\n",
    "a = df_audio['timestamps'].diff().fillna(df_audio['timestamps']) > 10\n",
    "timestamps_audio = df_audio.loc[a].timestamps.to_numpy()"
   ]
  },
  {
   "cell_type": "code",
   "execution_count": 16,
   "metadata": {},
   "outputs": [],
   "source": [
    "f_lick = []\n",
    "for i in range(48):\n",
    "    b = sorted_allport[(timestamps_audio[i] < sorted_allport)]\n",
    "    f_lick.append(b)\n",
    "\n",
    "first_lick = []\n",
    "for i in range(46):\n",
    "    first_lick.append(f_lick[i][0])"
   ]
  },
  {
   "cell_type": "code",
   "execution_count": 17,
   "metadata": {},
   "outputs": [],
   "source": [
    "first_lick_arr = np.array(first_lick + [0,0])"
   ]
  },
  {
   "cell_type": "code",
   "execution_count": 18,
   "metadata": {},
   "outputs": [],
   "source": [
    "latency_to_lick = first_lick_arr - timestamps_audio\n",
    "latency_to_lick[-1] = 0\n",
    "latency_to_lick[-2] = 0"
   ]
  },
  {
   "cell_type": "code",
   "execution_count": 19,
   "metadata": {},
   "outputs": [],
   "source": [
    "#plt.bar(b, latency_to_lick)\n"
   ]
  },
  {
   "cell_type": "markdown",
   "metadata": {},
   "source": [
    "### X3 (Feature 3): chunk of time in session (1,2,3,4)"
   ]
  },
  {
   "cell_type": "code",
   "execution_count": 20,
   "metadata": {},
   "outputs": [],
   "source": [
    "time_in_trial = np.array([0,0,0,0,0,0,0,0,0,0,0,0,\n",
    "                         1,1,1,1,1,1,1,1,1,1,1,1,\n",
    "                        2,2,2,2,2,2,2,2,2,2,2,2,\n",
    "                        3,3,3,3,3,3,3,3,3,3,3,3])"
   ]
  },
  {
   "cell_type": "code",
   "execution_count": 21,
   "metadata": {},
   "outputs": [
    {
     "data": {
      "text/plain": [
       "(48,)"
      ]
     },
     "execution_count": 21,
     "metadata": {},
     "output_type": "execute_result"
    }
   ],
   "source": [
    "np.shape(time_in_trial )"
   ]
  },
  {
   "cell_type": "markdown",
   "metadata": {},
   "source": [
    "### X4 (Facial Features): frames 5 seconds before each reward (first 2 components from each of the 2 rois respectively)"
   ]
  },
  {
   "cell_type": "code",
   "execution_count": 22,
   "metadata": {},
   "outputs": [],
   "source": [
    "facialdata = np.load('Hippo3_3P_session2_proc.npy',allow_pickle=True).item()"
   ]
  },
  {
   "cell_type": "code",
   "execution_count": 23,
   "metadata": {},
   "outputs": [],
   "source": [
    "#facialdata"
   ]
  },
  {
   "cell_type": "code",
   "execution_count": 24,
   "metadata": {},
   "outputs": [
    {
     "data": {
      "text/plain": [
       "(3, 40182, 500)"
      ]
     },
     "execution_count": 24,
     "metadata": {},
     "output_type": "execute_result"
    }
   ],
   "source": [
    "facialSVD = facialdata['motSVD'] #3 = motion mask; 500 = components\n",
    "np.shape(facialSVD)"
   ]
  },
  {
   "cell_type": "code",
   "execution_count": 25,
   "metadata": {},
   "outputs": [],
   "source": [
    "roione = facialSVD[1]\n",
    "roitwo = facialSVD[2]"
   ]
  },
  {
   "cell_type": "code",
   "execution_count": 26,
   "metadata": {},
   "outputs": [],
   "source": [
    "firstcomponent_roione = roione[:,0] #33fps \n",
    "twocomponent_roione = roione[:,1]\n",
    "\n",
    "firstcomponent_roitwo = roitwo[:,0] #33fps \n",
    "twocomponent_roitwo = roitwo[:,1]"
   ]
  },
  {
   "cell_type": "code",
   "execution_count": 27,
   "metadata": {},
   "outputs": [],
   "source": [
    "preward_firstcomponent_roione = []\n",
    "preward_twocomponent_roione = []\n",
    "\n",
    "preward_firstcomponent_roitwo = []\n",
    "preward_twocomponent_roitwo = []\n",
    "\n",
    "for i in range(len(rewardON)):\n",
    "    begin = int(np.round(rewardON[i])*33)\n",
    "    one_save = firstcomponent_roione[begin-33*5:begin]\n",
    "    preward_firstcomponent_roione.append(one_save)\n",
    "    \n",
    "    two_save = twocomponent_roione[begin-33*5:begin]\n",
    "    preward_twocomponent_roione.append(two_save)\n",
    "    \n",
    "    two_one_save = firstcomponent_roitwo[begin-33*5:begin]\n",
    "    preward_firstcomponent_roitwo.append(two_one_save)\n",
    "    \n",
    "    two_two_save = twocomponent_roitwo[begin-33*5:begin]\n",
    "    preward_twocomponent_roitwo.append(two_two_save)"
   ]
  },
  {
   "cell_type": "code",
   "execution_count": 28,
   "metadata": {},
   "outputs": [],
   "source": [
    "preward_firstcomponent_roione = np.array(preward_firstcomponent_roione)\n",
    "preward_twocomponent_roione = np.array(preward_twocomponent_roione)\n",
    "\n",
    "preward_firstcomponent_roitwo = np.array(preward_firstcomponent_roitwo)\n",
    "preward_twocomponent_roitwo = np.array(preward_twocomponent_roitwo)"
   ]
  },
  {
   "cell_type": "code",
   "execution_count": null,
   "metadata": {},
   "outputs": [],
   "source": []
  },
  {
   "cell_type": "markdown",
   "metadata": {},
   "source": [
    "## Creating actual X-matrix"
   ]
  },
  {
   "cell_type": "code",
   "execution_count": 177,
   "metadata": {},
   "outputs": [],
   "source": [
    "X_matrix = np.column_stack((speed_prereward, time_in_trial, latency_to_lick,\n",
    "                            preward_firstcomponent_roione,preward_twocomponent_roione,\n",
    "                           preward_firstcomponent_roitwo,preward_twocomponent_roitwo))  #need to figure out shape"
   ]
  },
  {
   "cell_type": "markdown",
   "metadata": {},
   "source": [
    "# Y Vector - Predicted Trial"
   ]
  },
  {
   "cell_type": "code",
   "execution_count": 178,
   "metadata": {},
   "outputs": [],
   "source": [
    "sessionparams = pd.read_csv(\"session_params.csv\", header = None, delimiter = ',')\n",
    "trialtype = np.array(sessionparams.iloc[2])\n",
    "y_trialtype = trialtype[1:-1]"
   ]
  },
  {
   "cell_type": "code",
   "execution_count": 179,
   "metadata": {},
   "outputs": [
    {
     "data": {
      "text/plain": [
       "(48,)"
      ]
     },
     "execution_count": 179,
     "metadata": {},
     "output_type": "execute_result"
    }
   ],
   "source": [
    "np.shape(y_trialtype)   #This coincide with 'retract_spout': also 48!"
   ]
  },
  {
   "cell_type": "markdown",
   "metadata": {},
   "source": [
    "## Split Data"
   ]
  },
  {
   "cell_type": "code",
   "execution_count": 186,
   "metadata": {},
   "outputs": [],
   "source": [
    "from sklearn.model_selection import train_test_split\n",
    "\n",
    "X_train, X_test, y_train, y_test = train_test_split(X_matrix, y_trialtype, test_size=0.5, random_state=10)"
   ]
  },
  {
   "cell_type": "markdown",
   "metadata": {},
   "source": [
    "## Classifier"
   ]
  },
  {
   "cell_type": "code",
   "execution_count": 195,
   "metadata": {},
   "outputs": [],
   "source": [
    "from sklearn.linear_model import SGDClassifier\n",
    "model = SGDClassifier(loss=\"hinge\", penalty=\"l2\").fit(X_train, y_train)"
   ]
  },
  {
   "cell_type": "code",
   "execution_count": 196,
   "metadata": {},
   "outputs": [
    {
     "data": {
      "text/plain": [
       "array([3., 1., 1., 4., 2., 1., 4., 4., 3., 4., 2., 1., 3., 1., 3., 1., 4.,\n",
       "       2., 1., 2., 4., 2., 3., 4.])"
      ]
     },
     "execution_count": 196,
     "metadata": {},
     "output_type": "execute_result"
    }
   ],
   "source": [
    "predictlick = model.predict(X_test)\n",
    "predictlick"
   ]
  },
  {
   "cell_type": "code",
   "execution_count": 197,
   "metadata": {},
   "outputs": [
    {
     "data": {
      "text/plain": [
       "array([3., 3., 1., 4., 2., 1., 4., 4., 1., 4., 2., 3., 3., 1., 3., 1., 4.,\n",
       "       2., 1., 2., 2., 2., 1., 4.])"
      ]
     },
     "execution_count": 197,
     "metadata": {},
     "output_type": "execute_result"
    }
   ],
   "source": [
    "y_test"
   ]
  },
  {
   "cell_type": "code",
   "execution_count": 221,
   "metadata": {},
   "outputs": [
    {
     "data": {
      "text/plain": [
       "Text(0, 0.5, 'Trial Type')"
      ]
     },
     "execution_count": 221,
     "metadata": {},
     "output_type": "execute_result"
    },
    {
     "data": {
      "image/png": "[encoded data removed]",
      "text/plain": [
       "<Figure size 432x288 with 1 Axes>"
      ]
     },
     "metadata": {
      "needs_background": "light"
     },
     "output_type": "display_data"
    }
   ],
   "source": [
    "plt.scatter(np.arange(24),predictlick, color = 'red')\n",
    "plt.scatter(np.arange(24),y_test)\n",
    "plt.xlabel('Trial number')\n",
    "plt.ylabel('Trial Type')"
   ]
  },
  {
   "cell_type": "code",
   "execution_count": null,
   "metadata": {},
   "outputs": [],
   "source": []
  },
  {
   "cell_type": "code",
   "execution_count": null,
   "metadata": {},
   "outputs": [],
   "source": []
  },
  {
   "cell_type": "code",
   "execution_count": null,
   "metadata": {},
   "outputs": [],
   "source": []
  },
  {
   "cell_type": "code",
   "execution_count": null,
   "metadata": {},
   "outputs": [],
   "source": []
  },
  {
   "cell_type": "code",
   "execution_count": null,
   "metadata": {},
   "outputs": [],
   "source": []
  },
  {
   "cell_type": "code",
   "execution_count": null,
   "metadata": {},
   "outputs": [],
   "source": []
  },
  {
   "cell_type": "code",
   "execution_count": 180,
   "metadata": {},
   "outputs": [],
   "source": [
    "from sklearn.linear_model import LinearRegression"
   ]
  },
  {
   "cell_type": "code",
   "execution_count": 181,
   "metadata": {},
   "outputs": [
    {
     "data": {
      "text/plain": [
       "array([1.95310781, 2.10920145, 2.2818534 , 2.542288  , 2.76271332,\n",
       "       2.6788063 , 2.95340732, 3.18556679, 1.77776553, 3.3950048 ,\n",
       "       3.55431759, 2.43885733, 1.79969524, 2.11454271, 2.67757862,\n",
       "       2.75605115, 1.3520003 , 2.72666239, 2.59489924, 3.06464976,\n",
       "       2.61865261, 2.71819772, 2.89381406, 3.85524797])"
      ]
     },
     "execution_count": 181,
     "metadata": {},
     "output_type": "execute_result"
    }
   ],
   "source": [
    "\n",
    "#fit model to training data\n",
    "model = LinearRegression().fit(X_train, y_train)\n",
    "predictlick = model.predict(X_test)\n",
    "predictlick"
   ]
  },
  {
   "cell_type": "code",
   "execution_count": 182,
   "metadata": {},
   "outputs": [
    {
     "data": {
      "text/plain": [
       "array([3., 3., 1., 4., 2., 1., 4., 4., 1., 4., 2., 3., 3., 1., 3., 1., 4.,\n",
       "       2., 1., 2., 2., 2., 1., 4.])"
      ]
     },
     "execution_count": 182,
     "metadata": {},
     "output_type": "execute_result"
    }
   ],
   "source": [
    "y_test"
   ]
  },
  {
   "cell_type": "code",
   "execution_count": 156,
   "metadata": {},
   "outputs": [],
   "source": [
    "#Latency to add stuff"
   ]
  },
  {
   "cell_type": "code",
   "execution_count": 157,
   "metadata": {},
   "outputs": [
    {
     "ename": "SyntaxError",
     "evalue": "invalid syntax (<ipython-input-157-dfed295631bb>, line 6)",
     "output_type": "error",
     "traceback": [
      "\u001b[0;36m  File \u001b[0;32m\"<ipython-input-157-dfed295631bb>\"\u001b[0;36m, line \u001b[0;32m6\u001b[0m\n\u001b[0;31m    Reward Lick Rate\u001b[0m\n\u001b[0m              ^\u001b[0m\n\u001b[0;31mSyntaxError\u001b[0m\u001b[0;31m:\u001b[0m invalid syntax\n"
     ]
    }
   ],
   "source": [
    "#predicting lick pattern for each reward type\n",
    "\n",
    "\n",
    "    \n",
    "COMPAREEEEEE \n",
    "Reward Lick Rate \n",
    "1. reward type: could have high predictive value for lick rate \n",
    "2. another feature: time where in the trial u are: dividde trials in e.g.  4 different chunks  (e.g. satiety)\n",
    "        (right now im just using a random value to chunk, but i'd want to use video data/facial data to find out whether\n",
    "        there is a some state that u can find out that may be correlated with hunger state.)\n",
    " \n",
    "\n",
    "\n",
    "\n",
    "we think that lick pattern is influence by different stuff. and i wanted to find out whether it is true?? \n",
    "-> build model -> try to reward lick type! \n",
    "\n",
    "right \n",
    "            "
   ]
  },
  {
   "cell_type": "code",
   "execution_count": null,
   "metadata": {},
   "outputs": [],
   "source": []
  }
 ],
 "metadata": {
  "kernelspec": {
   "display_name": "Python 3",
   "language": "python",
   "name": "python3"
  },
  "language_info": {
   "codemirror_mode": {
    "name": "ipython",
    "version": 3
   },
   "file_extension": ".py",
   "mimetype": "text/x-python",
   "name": "python",
   "nbconvert_exporter": "python",
   "pygments_lexer": "ipython3",
   "version": "3.6.10"
  }
 },
 "nbformat": 4,
 "nbformat_minor": 4
}
